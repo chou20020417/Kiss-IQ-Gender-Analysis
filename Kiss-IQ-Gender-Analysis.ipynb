{
 "cells": [
  {
   "cell_type": "code",
   "execution_count": 7,
   "id": "55026bef",
   "metadata": {},
   "outputs": [],
   "source": [
    "import pandas as pd\n",
    "df = pd.read_excel(\"DATA_Kiss_count_gender_and_IQ.xlsx\")"
   ]
  },
  {
   "cell_type": "code",
   "execution_count": 8,
   "id": "b1a83d8e",
   "metadata": {},
   "outputs": [
    {
     "name": "stdout",
     "output_type": "stream",
     "text": [
      "Index(['Name', 'Gender', 'IQ', 'Kiss Count', 'Age of First Kiss', 'Unnamed: 5',\n",
      "       'Unnamed: 6', 'Unnamed: 7', 'Unnamed: 8', 'Unnamed: 9', 'Unnamed: 10',\n",
      "       'Gender.1'],\n",
      "      dtype='object')\n"
     ]
    }
   ],
   "source": [
    "print(df.columns)"
   ]
  },
  {
   "cell_type": "code",
   "execution_count": 13,
   "id": "04a735be",
   "metadata": {},
   "outputs": [
    {
     "name": "stdout",
     "output_type": "stream",
     "text": [
      "                Var A              Var B  Pearson r  Pearson p  t (from r)  \\\n",
      "5   Age of First Kiss         GenderFlag  -0.194026   0.005906   -2.783069   \n",
      "7   Age of First Kiss                 IQ  -0.041842   0.556346   -0.589279   \n",
      "9   Age of First Kiss         Kiss Count  -0.230764   0.001011   -3.337208   \n",
      "11         GenderFlag  Age of First Kiss  -0.194026   0.005906   -2.783069   \n",
      "8          GenderFlag                 IQ   0.128213   0.070401    1.819135   \n",
      "10         GenderFlag         Kiss Count  -0.003463   0.961185   -0.048728   \n",
      "1                  IQ  Age of First Kiss  -0.041842   0.556346   -0.589279   \n",
      "2                  IQ         GenderFlag   0.128213   0.070401    1.819135   \n",
      "0                  IQ         Kiss Count   0.110812   0.118262    1.568927   \n",
      "3          Kiss Count  Age of First Kiss  -0.230764   0.001011   -3.337208   \n",
      "4          Kiss Count         GenderFlag  -0.003463   0.961185   -0.048728   \n",
      "6          Kiss Count                 IQ   0.110812   0.118262    1.568927   \n",
      "\n",
      "    p (from t)   Significance        Label  \n",
      "5     0.005906  ** (p < 0.01)  Significant  \n",
      "7     0.556346           n.s.     Not sig.  \n",
      "9     0.001011  ** (p < 0.01)  Significant  \n",
      "11    0.005906  ** (p < 0.01)  Significant  \n",
      "8     0.070401           n.s.     Not sig.  \n",
      "10    0.961185           n.s.     Not sig.  \n",
      "1     0.556346           n.s.     Not sig.  \n",
      "2     0.070401           n.s.     Not sig.  \n",
      "0     0.118262           n.s.     Not sig.  \n",
      "3     0.001011  ** (p < 0.01)  Significant  \n",
      "4     0.961185           n.s.     Not sig.  \n",
      "6     0.118262           n.s.     Not sig.  \n"
     ]
    }
   ],
   "source": [
    "import pandas as pd\n",
    "from scipy.stats import pearsonr, t\n",
    "from itertools import combinations\n",
    "\n",
    "# 讀取 Excel 資料\n",
    "df = pd.read_excel(\"DATA_Kiss_count_gender_and_IQ.xlsx\")\n",
    "df['Gender'] = df['Gender'].str.strip().str.lower()\n",
    "df['GenderFlag'] = df['Gender'].apply(lambda x: 1 if x == 'male' else 0)\n",
    "df = df.dropna(subset=['IQ', 'Kiss Count', 'Age of First Kiss', 'GenderFlag'])\n",
    "\n",
    "# 样本數\n",
    "n = len(df)\n",
    "\n",
    "# 工具函數\n",
    "def r_to_t(r, n):\n",
    "    return r * ((n - 2) ** 0.5) / ((1 - r ** 2) ** 0.5)\n",
    "\n",
    "def t_to_p(t_val, dfree):\n",
    "    return 2 * t.sf(abs(t_val), dfree)\n",
    "\n",
    "def significance(p):\n",
    "    if p < 0.001:\n",
    "        return \"*** (p < 0.001)\"\n",
    "    elif p < 0.01:\n",
    "        return \"** (p < 0.01)\"\n",
    "    elif p < 0.05:\n",
    "        return \"* (p < 0.05)\"\n",
    "    else:\n",
    "        return \"n.s.\"\n",
    "\n",
    "def sig_label(p):\n",
    "    if not isinstance(p, (int, float)) or pd.isna(p):\n",
    "        return \"N/A\"\n",
    "    elif p < 0.05:\n",
    "        return \"Significant\"\n",
    "    else:\n",
    "        return \"Not sig.\"\n",
    "\n",
    "\n",
    "# 欲分析的變數欄位\n",
    "cols = ['IQ', 'Kiss Count', 'Age of First Kiss', 'GenderFlag']\n",
    "results = []\n",
    "\n",
    "# 計算所有兩兩變數的相關、t值、p值與顯著性\n",
    "for var1, var2 in combinations(cols, 2):\n",
    "    x = df[var1]\n",
    "    y = df[var2]\n",
    "    \n",
    "    r_val, p_corr = pearsonr(x, y)\n",
    "    t_val = r_to_t(r_val, n)\n",
    "    p_from_t = t_to_p(t_val, n - 2)\n",
    "\n",
    "    results.append({\n",
    "        'Var A': var1,\n",
    "        'Var B': var2,\n",
    "        'Pearson r': round(r_val, 6),\n",
    "        'Pearson p': round(p_corr, 6),\n",
    "        't (from r)': round(t_val, 6),\n",
    "        'p (from t)': round(p_from_t, 6),\n",
    "        'Significance': significance(p_corr),\n",
    "        'Label': sig_label(p_corr)  # ← 加這一欄\n",
    "    })\n",
    "\n",
    "# 為對稱矩陣補上相反順序\n",
    "for var1, var2 in combinations(cols, 2):\n",
    "    row = next(item for item in results if item['Var A'] == var1 and item['Var B'] == var2)\n",
    "    results.append({\n",
    "        'Var A': var2,\n",
    "        'Var B': var1,\n",
    "        'Pearson r': row['Pearson r'],\n",
    "        'Pearson p': row['Pearson p'],\n",
    "        't (from r)': row['t (from r)'],\n",
    "        'p (from t)': row['p (from t)'],\n",
    "        'Significance': row['Significance'],\n",
    "        'Label': row['Label']\n",
    "    })\n",
    "\n",
    "# 結果輸出成 DataFrame\n",
    "result_df = pd.DataFrame(results)\n",
    "result_df = result_df.sort_values(by=['Var A', 'Var B'])\n",
    "print(result_df)\n"
   ]
  }
 ],
 "metadata": {
  "kernelspec": {
   "display_name": "base",
   "language": "python",
   "name": "python3"
  },
  "language_info": {
   "codemirror_mode": {
    "name": "ipython",
    "version": 3
   },
   "file_extension": ".py",
   "mimetype": "text/x-python",
   "name": "python",
   "nbconvert_exporter": "python",
   "pygments_lexer": "ipython3",
   "version": "3.12.4"
  }
 },
 "nbformat": 4,
 "nbformat_minor": 5
}
