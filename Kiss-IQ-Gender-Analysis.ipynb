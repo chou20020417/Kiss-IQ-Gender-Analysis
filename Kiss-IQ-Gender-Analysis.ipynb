{
 "cells": [
  {
   "cell_type": "code",
   "execution_count": 1,
   "id": "55026bef",
   "metadata": {},
   "outputs": [],
   "source": [
    "import pandas as pd\n",
    "df = pd.read_excel(\"DATA_Kiss_count_gender_and_IQ.xlsx\")"
   ]
  },
  {
   "cell_type": "code",
   "execution_count": 2,
   "id": "b1a83d8e",
   "metadata": {},
   "outputs": [
    {
     "name": "stdout",
     "output_type": "stream",
     "text": [
      "Index(['Name', 'Gender', 'IQ', 'Kiss Count', 'Age of First Kiss'], dtype='object')\n"
     ]
    }
   ],
   "source": [
    "print(df.columns)"
   ]
  },
  {
   "cell_type": "code",
   "execution_count": 5,
   "id": "e0d1e97e",
   "metadata": {},
   "outputs": [
    {
     "name": "stdout",
     "output_type": "stream",
     "text": [
      "            Variable  Pearson r  Correlation p (from r)  t (from r)  \\\n",
      "0                 IQ   0.110812                0.118262    1.568927   \n",
      "1  Age of First Kiss  -0.230764                0.001011   -3.337208   \n",
      "2    Gender (male=1)  -0.003463                0.961185   -0.048728   \n",
      "\n",
      "   Correlation p (from t) t-test value (group diff) t-test p (group diff)  \n",
      "0                0.118262                                                  \n",
      "1                0.001011                                                  \n",
      "2                0.961185                 -0.048728              0.961185  \n"
     ]
    }
   ],
   "source": [
    "import pandas as pd\n",
    "from scipy.stats import pearsonr, ttest_ind, t\n",
    "\n",
    "\n",
    "df = pd.read_excel(\"DATA_Kiss_count_gender_and_IQ.xlsx\")\n",
    "df['Gender'] = df['Gender'].str.strip().str.lower()\n",
    "df['GenderFlag'] = df['Gender'].apply(lambda x: 1 if x == 'male' else 0)\n",
    "df = df.dropna(subset=['IQ', 'Kiss Count', 'Age of First Kiss', 'GenderFlag'])\n",
    "\n",
    "def r_to_t(r, n):\n",
    "    return r * ( (n - 2) ** 0.5 ) / ((1 - r ** 2) ** 0.5)\n",
    "\n",
    "def t_to_p(t_val, dfree):\n",
    "    return 2 * t.sf(abs(t_val), dfree)\n",
    "\n",
    "results = []\n",
    "n = len(df)\n",
    "\n",
    "variables = [\n",
    "    ('IQ', df['IQ']),\n",
    "    ('Age of First Kiss', df['Age of First Kiss']),\n",
    "    ('Gender (male=1)', df['GenderFlag'])\n",
    "]\n",
    "\n",
    "for var_name, series in variables:\n",
    "    r, corr_p = pearsonr(df['Kiss Count'], series)\n",
    "    t_val = r_to_t(r, n)\n",
    "    p_from_t = t_to_p(t_val, n - 2)\n",
    "\n",
    "    if var_name.startswith('Gender'):\n",
    "        group_m = df[df['GenderFlag'] == 1]['Kiss Count']\n",
    "        group_f = df[df['GenderFlag'] == 0]['Kiss Count']\n",
    "        t_stat, p_ttest = ttest_ind(group_m, group_f)\n",
    "    else:\n",
    "        t_stat, p_ttest = '', ''\n",
    "\n",
    "    results.append({\n",
    "        'Variable': var_name,\n",
    "        'Pearson r': round(r, 6),\n",
    "        'Correlation p (from r)': round(corr_p, 6),\n",
    "        't (from r)': round(t_val, 6),\n",
    "        'Correlation p (from t)': round(p_from_t, 6),\n",
    "        't-test value (group diff)': t_stat if t_stat == '' else round(t_stat, 6),\n",
    "        't-test p (group diff)': p_ttest if p_ttest == '' else round(p_ttest, 6)\n",
    "    })\n",
    "\n",
    "result_df = pd.DataFrame(results)\n",
    "print(result_df)\n"
   ]
  },
  {
   "cell_type": "code",
   "execution_count": 6,
   "id": "17edf2e5",
   "metadata": {},
   "outputs": [
    {
     "name": "stdout",
     "output_type": "stream",
     "text": [
      "                Var A              Var B  Pearson r  Pearson p  t (from r)  \\\n",
      "5   Age of First Kiss         GenderFlag  -0.194026   0.005906   -2.783069   \n",
      "7   Age of First Kiss                 IQ  -0.041842   0.556346   -0.589279   \n",
      "9   Age of First Kiss         Kiss Count  -0.230764   0.001011   -3.337208   \n",
      "11         GenderFlag  Age of First Kiss  -0.194026   0.005906   -2.783069   \n",
      "8          GenderFlag                 IQ   0.128213   0.070401    1.819135   \n",
      "10         GenderFlag         Kiss Count  -0.003463   0.961185   -0.048728   \n",
      "1                  IQ  Age of First Kiss  -0.041842   0.556346   -0.589279   \n",
      "2                  IQ         GenderFlag   0.128213   0.070401    1.819135   \n",
      "0                  IQ         Kiss Count   0.110812   0.118262    1.568927   \n",
      "3          Kiss Count  Age of First Kiss  -0.230764   0.001011   -3.337208   \n",
      "4          Kiss Count         GenderFlag  -0.003463   0.961185   -0.048728   \n",
      "6          Kiss Count                 IQ   0.110812   0.118262    1.568927   \n",
      "\n",
      "    p (from t)  \n",
      "5     0.005906  \n",
      "7     0.556346  \n",
      "9     0.001011  \n",
      "11    0.005906  \n",
      "8     0.070401  \n",
      "10    0.961185  \n",
      "1     0.556346  \n",
      "2     0.070401  \n",
      "0     0.118262  \n",
      "3     0.001011  \n",
      "4     0.961185  \n",
      "6     0.118262  \n"
     ]
    }
   ],
   "source": [
    "import pandas as pd\n",
    "from scipy.stats import pearsonr, t\n",
    "from itertools import combinations\n",
    "\n",
    "df = pd.read_excel(\"DATA_Kiss_count_gender_and_IQ.xlsx\")\n",
    "df['Gender'] = df['Gender'].str.strip().str.lower()\n",
    "df['GenderFlag'] = df['Gender'].apply(lambda x: 1 if x == 'male' else 0)\n",
    "df = df.dropna(subset=['IQ', 'Kiss Count', 'Age of First Kiss', 'GenderFlag'])\n",
    "\n",
    "def r_to_t(r, n):\n",
    "    return r * ((n - 2) ** 0.5) / ((1 - r ** 2) ** 0.5)\n",
    "\n",
    "def t_to_p(t_val, dfree):\n",
    "    return 2 * t.sf(abs(t_val), dfree)\n",
    "\n",
    "cols = ['IQ', 'Kiss Count', 'Age of First Kiss', 'GenderFlag']\n",
    "n = len(df)\n",
    "results = []\n",
    "\n",
    "for var1, var2 in combinations(cols, 2):\n",
    "    x = df[var1]\n",
    "    y = df[var2]\n",
    "    \n",
    "    r_val, p_corr = pearsonr(x, y)\n",
    "    t_val = r_to_t(r_val, n)\n",
    "    p_from_t = t_to_p(t_val, n - 2)\n",
    "\n",
    "    results.append({\n",
    "        'Var A': var1,\n",
    "        'Var B': var2,\n",
    "        'Pearson r': round(r_val, 6),\n",
    "        'Pearson p': round(p_corr, 6),\n",
    "        't (from r)': round(t_val, 6),\n",
    "        'p (from t)': round(p_from_t, 6)\n",
    "    })\n",
    "\n",
    "for var1, var2 in combinations(cols, 2):\n",
    "    row = next(item for item in results if item['Var A'] == var1 and item['Var B'] == var2)\n",
    "    results.append({\n",
    "        'Var A': var2,\n",
    "        'Var B': var1,\n",
    "        'Pearson r': row['Pearson r'],\n",
    "        'Pearson p': row['Pearson p'],\n",
    "        't (from r)': row['t (from r)'],\n",
    "        'p (from t)': row['p (from t)']\n",
    "    })\n",
    "\n",
    "result_df = pd.DataFrame(results)\n",
    "result_df = result_df.sort_values(by=['Var A', 'Var B'])\n",
    "print(result_df)\n"
   ]
  },
  {
   "cell_type": "code",
   "execution_count": null,
   "id": "04a735be",
   "metadata": {},
   "outputs": [],
   "source": []
  }
 ],
 "metadata": {
  "kernelspec": {
   "display_name": "base",
   "language": "python",
   "name": "python3"
  },
  "language_info": {
   "codemirror_mode": {
    "name": "ipython",
    "version": 3
   },
   "file_extension": ".py",
   "mimetype": "text/x-python",
   "name": "python",
   "nbconvert_exporter": "python",
   "pygments_lexer": "ipython3",
   "version": "3.12.4"
  }
 },
 "nbformat": 4,
 "nbformat_minor": 5
}
